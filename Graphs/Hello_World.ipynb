{
 "cells": [
  {
   "cell_type": "code",
   "id": "initial_id",
   "metadata": {
    "collapsed": true,
    "ExecuteTime": {
     "end_time": "2025-08-14T04:25:48.362849Z",
     "start_time": "2025-08-14T04:25:48.355759Z"
    }
   },
   "source": [
    "from typing import TypedDict, Dict\n",
    "# framework that helps you design and manage the flow of tasks in your application using a graph structure\n",
    "from langgraph.graph import StateGraph"
   ],
   "outputs": [],
   "execution_count": 19
  },
  {
   "metadata": {
    "ExecuteTime": {
     "end_time": "2025-08-14T04:25:48.375003Z",
     "start_time": "2025-08-14T04:25:48.371497Z"
    }
   },
   "cell_type": "code",
   "source": [
    "# we now create an AgentState - shared data structure that keeps track of information as your application runs\n",
    "class AgentState(TypedDict):    # our state schema\n",
    "    message: str\n",
    "\n",
    "def greeting_node(state: AgentState) -> AgentState:\n",
    "    \"\"\" simple node that adds a greeting message to the state \"\"\"\n",
    "    # TypedDict的键(key)总是字符串类型, 不加引号, 会理解message为一个变量\n",
    "    state[\"message\"] = f\"Hey, {state['message']} + , how is your day going?\"\n",
    "    return state\n",
    "\n",
    "def answer_node(state: AgentState) -> AgentState:\n",
    "    state['message'] = f\"{state['message']} \\nGreat, what about you?\"\n",
    "    return state\n"
   ],
   "id": "b227c19ed28f857f",
   "outputs": [],
   "execution_count": 20
  },
  {
   "metadata": {
    "ExecuteTime": {
     "end_time": "2025-08-14T04:25:48.392430Z",
     "start_time": "2025-08-14T04:25:48.387661Z"
    }
   },
   "cell_type": "code",
   "source": [
    "graph = StateGraph(AgentState)\n",
    "\n",
    "graph.add_node('greeter', greeting_node)\n",
    "graph.add_node('answer', answer_node)\n",
    "graph.add_edge('greeter', 'answer')\n",
    "graph.set_entry_point('greeter')\n",
    "graph.set_finish_point('greeter')\n",
    "\n",
    "app = graph.compile()"
   ],
   "id": "7a4ec1ae1e5295ed",
   "outputs": [],
   "execution_count": 21
  },
  {
   "metadata": {
    "ExecuteTime": {
     "end_time": "2025-08-14T04:25:48.780540Z",
     "start_time": "2025-08-14T04:25:48.399819Z"
    }
   },
   "cell_type": "code",
   "source": [
    "from IPython.display import Image, display\n",
    "display(Image(app.get_graph().draw_mermaid_png()))"
   ],
   "id": "dcfe1322724b43b1",
   "outputs": [
    {
     "data": {
      "image/png": "[encoded data removed]",
      "text/plain": [
       "<IPython.core.display.Image object>"
      ]
     },
     "metadata": {},
     "output_type": "display_data"
    }
   ],
   "execution_count": 22
  },
  {
   "metadata": {
    "ExecuteTime": {
     "end_time": "2025-08-14T04:25:48.796758Z",
     "start_time": "2025-08-14T04:25:48.793800Z"
    }
   },
   "cell_type": "code",
   "source": [
    "# 最后一个node应该返回一个AgentState\n",
    "result = app.invoke({'message': 'Mina'})"
   ],
   "id": "f0662fda6a83432e",
   "outputs": [],
   "execution_count": 23
  },
  {
   "metadata": {
    "ExecuteTime": {
     "end_time": "2025-08-14T04:25:48.810642Z",
     "start_time": "2025-08-14T04:25:48.807563Z"
    }
   },
   "cell_type": "code",
   "source": "print(result['message'])",
   "id": "5c3fa1cb898b175e",
   "outputs": [
    {
     "name": "stdout",
     "output_type": "stream",
     "text": [
      "Hey, Mina + , how is your day going?\n",
      "Great, what about you? \n",
      "Great, what about you?\n"
     ]
    }
   ],
   "execution_count": 24
  }
 ],
 "metadata": {
  "kernelspec": {
   "display_name": "Python 3",
   "language": "python",
   "name": "python3"
  },
  "language_info": {
   "codemirror_mode": {
    "name": "ipython",
    "version": 2
   },
   "file_extension": ".py",
   "mimetype": "text/x-python",
   "name": "python",
   "nbconvert_exporter": "python",
   "pygments_lexer": "ipython2",
   "version": "2.7.6"
  }
 },
 "nbformat": 4,
 "nbformat_minor": 5
}
