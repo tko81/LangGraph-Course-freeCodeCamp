{
 "cells": [
  {
   "cell_type": "code",
   "execution_count": null,
   "id": "b9f3ede8",
   "metadata": {},
   "outputs": [],
   "source": [
    "'''\n",
    "代理可能不可靠，并可能需要人工输入才能成功完成任务。类似地，对于某些操作，您可能希望在运行之前要求人工批准\n",
    "以确保一切按预期运行\n",
    "\n",
    "LangGraph 的持久化层支持人工介入工作流，允许根据用户反馈暂停和恢复执行。此功能的主要接口是 interrupt 函数\n",
    "在节点内部调用 interrupt 将暂停执行。通过传递一个 Command,可以与来自人类的新输入一起恢复执行\n",
    "\n",
    "interrupt 在人体工学上与 Python 的内置 input() 类似\n",
    "\n",
    "将 human_assistance 工具添加到 chatbot 中。该工具使用 interrupt 接收来自人类的信息\n",
    "'''"
   ]
  },
  {
   "cell_type": "code",
   "execution_count": null,
   "id": "9a07aba2",
   "metadata": {},
   "outputs": [],
   "source": [
    "from typing import Annotated\n",
    "from typing_extensions import TypedDict\n",
    "\n",
    "from langchain_core.tools import tool\n",
    "from langgraph.graph import StateGraph, START, END\n",
    "from langgraph.graph.message import add_messages\n",
    "from langchain.chat_models import init_chat_model\n",
    "from langgraph.checkpoint.memory import InMemorySaver\n",
    "from langgraph.prebuilt import ToolNode, tools_condition\n",
    "from langgraph.types import Command, interrupt\n",
    "from langchain_tavily import TavilySearch\n",
    "\n",
    "memory = InMemorySaver()\n",
    "\n",
    "from dotenv import load_dotenv\n",
    "load_dotenv()\n",
    "\n",
    "# 构建state schema\n",
    "class State(TypedDict):\n",
    "    messages: Annotated[list, add_messages]\n",
    "\n",
    "graph_builder = StateGraph(State)\n",
    "\n",
    "# 将 human_assistance 工具添加到 chatbot 中。该工具使用 interrupt 接收来自人类的信息\n",
    "@tool\n",
    "def human_assistance(query: str) -> str:\n",
    "    \"\"\"\n",
    "    Request assistance from a human.\n",
    "    与 Python 的内置 input() 函数类似，在工具中调用 interrupt 将暂停执行。\n",
    "    进度基于检查点持久化；因此，如果它使用 Postgres 进行持久化，只要数据库处于活动状态\n",
    "    它就可以随时恢复。在这个例子中，它使用内存检查点进行持久化，只要 Python 内核正在运行，就可以随时恢复\n",
    "    \"\"\"\n",
    "    human_response = interrupt({\"query\": query})\n",
    "    return human_response[\"data\"]\n",
    "\n",
    "# 初始化工具\n",
    "web_search = TavilySearch(max_results=2)\n",
    "tools = [web_search, human_assistance]\n",
    "\n",
    "# 初始化模型 绑定工具\n",
    "llm = init_chat_model(\"google_genai:gemini-2.0-flash\")\n",
    "llm_with_tools = llm.bind_tools(tools)\n",
    "\n",
    "# 定义Node\n",
    "def chatbot(state: State):\n",
    "    return {\"messages\": [llm_with_tools.invoke(state[\"messages\"])]}\n",
    "# 增加Node\n",
    "graph_builder.add_node(\"chatbot\", chatbot)\n",
    "\n",
    "# 定义工具Node\n",
    "tool_node = ToolNode(tools)\n",
    "# 增加工具Node\n",
    "graph_builder.add_node(\"my_tools\", tool_node)\n",
    "\n",
    "# 增加条件边\n",
    "graph_builder.add_conditional_edges(\n",
    "    \"chatbot\",\n",
    "    tools_condition,    # langgraph自带的工具条件函数返回字符串是写死的，因此下面的映射字典，只能写tools和__end__\n",
    "    {\"tools\": \"my_tools\", \"__end__\": END} # 如果不需要工具调用 直接结束\n",
    ")\n",
    "# 增加普通边\n",
    "# Any time a tool is called, we return to the chatbot to decide the next step\n",
    "graph_builder.add_edge(\"my_tools\", \"chatbot\")\n",
    "graph_builder.add_edge(START, \"chatbot\")\n",
    "#graph = graph_builder.compile()\n",
    "# 使用提供的检查点编译 graph，该检查点将在 graph 遍历每个 Node 时将 State 作为检查点\n",
    "graph = graph_builder.compile(checkpointer=memory)"
   ]
  },
  {
   "cell_type": "code",
   "execution_count": 6,
   "id": "ee848981",
   "metadata": {},
   "outputs": [
    {
     "name": "stdout",
     "output_type": "stream",
     "text": [
      "================================\u001b[1m Human Message \u001b[0m=================================\n",
      "\n",
      "I need some expert guidance for building an AI agent. Could you request assistance for me?\n",
      "==================================\u001b[1m Ai Message \u001b[0m==================================\n",
      "Tool Calls:\n",
      "  human_assistance (28bb5241-7295-4569-b13f-656e5f562488)\n",
      " Call ID: 28bb5241-7295-4569-b13f-656e5f562488\n",
      "  Args:\n",
      "    query: I need some expert guidance for building an AI agent.\n"
     ]
    }
   ],
   "source": [
    "user_input = \"I need some expert guidance for building an AI agent. Could you request assistance for me?\"\n",
    "config = {\"configurable\": {\"thread_id\": \"1\"}}\n",
    "\n",
    "events = graph.stream(\n",
    "    {\"messages\": [{\"role\": \"user\", \"content\": user_input}]},\n",
    "    config,\n",
    "    stream_mode=\"values\",\n",
    ")\n",
    "for event in events:\n",
    "    if \"messages\" in event:\n",
    "        event[\"messages\"][-1].pretty_print()"
   ]
  },
  {
   "cell_type": "code",
   "execution_count": null,
   "id": "cdc9b2d5",
   "metadata": {},
   "outputs": [
    {
     "data": {
      "text/plain": [
       "('my_tools',)"
      ]
     },
     "execution_count": 7,
     "metadata": {},
     "output_type": "execute_result"
    }
   ],
   "source": [
    "# 聊天机器人生成了一个工具调用，但随后执行被中断。如果你检查图状态，你会发现它停在工具节点上\n",
    "snapshot = graph.get_state(config)\n",
    "snapshot.next"
   ]
  },
  {
   "cell_type": "code",
   "execution_count": 8,
   "id": "3cb98c98",
   "metadata": {},
   "outputs": [
    {
     "name": "stdout",
     "output_type": "stream",
     "text": [
      "==================================\u001b[1m Ai Message \u001b[0m==================================\n",
      "Tool Calls:\n",
      "  human_assistance (28bb5241-7295-4569-b13f-656e5f562488)\n",
      " Call ID: 28bb5241-7295-4569-b13f-656e5f562488\n",
      "  Args:\n",
      "    query: I need some expert guidance for building an AI agent.\n",
      "=================================\u001b[1m Tool Message \u001b[0m=================================\n",
      "Name: human_assistance\n",
      "\n",
      "We, the experts are here to help! We'd recommend you check out LangGraph to build your agent. It's much more reliable and extensible than simple autonomous agents.\n",
      "==================================\u001b[1m Ai Message \u001b[0m==================================\n",
      "\n",
      "The experts recommend using LangGraph to build your AI agent. They say it's more reliable and extensible than simple autonomous agents.\n"
     ]
    }
   ],
   "source": [
    "human_response = (\n",
    "    \"We, the experts are here to help! We'd recommend you check out LangGraph to build your agent.\"\n",
    "    \" It's much more reliable and extensible than simple autonomous agents.\"\n",
    ")\n",
    "\n",
    "human_command = Command(resume={\"data\": human_response})\n",
    "\n",
    "events = graph.stream(human_command, config, stream_mode=\"values\")\n",
    "for event in events:\n",
    "    if \"messages\" in event:\n",
    "        event[\"messages\"][-1].pretty_print()"
   ]
  }
 ],
 "metadata": {
  "kernelspec": {
   "display_name": "LangGraph-tutorial",
   "language": "python",
   "name": "python3"
  },
  "language_info": {
   "codemirror_mode": {
    "name": "ipython",
    "version": 3
   },
   "file_extension": ".py",
   "mimetype": "text/x-python",
   "name": "python",
   "nbconvert_exporter": "python",
   "pygments_lexer": "ipython3",
   "version": "3.12.3"
  }
 },
 "nbformat": 4,
 "nbformat_minor": 5
}
