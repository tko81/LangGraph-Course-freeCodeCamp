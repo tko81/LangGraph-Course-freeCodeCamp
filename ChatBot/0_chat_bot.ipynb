{
 "cells": [
  {
   "cell_type": "code",
   "execution_count": 3,
   "id": "initial_id",
   "metadata": {
    "collapsed": true
   },
   "outputs": [],
   "source": [
    "from typing import Annotated\n",
    "\n",
    "from typing_extensions import TypedDict\n",
    "\n",
    "from langgraph.graph import StateGraph, START, END\n",
    "from langgraph.graph.message import add_messages"
   ]
  },
  {
   "cell_type": "code",
   "execution_count": null,
   "id": "e4451a6c9c85de97",
   "metadata": {},
   "outputs": [],
   "source": [
    "# 这是一个state schema\n",
    "class State(TypedDict):\n",
    "    # Messages have the type \"list\". The `add_messages` function\n",
    "    # in the annotation defines how this state key should be updated\n",
    "    # (in this case, it appends messages to the list, rather than overwriting them)\n",
    "    # add_message是一个reducer, 未指定reducer默认采用覆盖的策略\n",
    "    # https://langchain-ai.github.io/langgraph/concepts/low_level/#default-reducer\n",
    "    messages: Annotated[list, add_messages]\n",
    "\n",
    "graph_builder = StateGraph(State)"
   ]
  },
  {
   "cell_type": "code",
   "execution_count": null,
   "id": "bf27176b0abdb7be",
   "metadata": {},
   "outputs": [],
   "source": [
    "from langchain.chat_models import init_chat_model\n",
    "from dotenv import load_dotenv\n",
    "\n",
    "# 加载 .env 文件\n",
    "load_dotenv()\n",
    "\n",
    "llm = init_chat_model(\"openai:gpt-4.1\")"
   ]
  },
  {
   "cell_type": "code",
   "execution_count": 6,
   "id": "88c69ddfde75c50f",
   "metadata": {},
   "outputs": [
    {
     "data": {
      "text/plain": [
       "<langgraph.graph.state.StateGraph at 0x7b01e2115370>"
      ]
     },
     "execution_count": 6,
     "metadata": {},
     "output_type": "execute_result"
    }
   ],
   "source": [
    "# 这是一个node，接受一个state作为参数，将聊天模型合并到一个简单的节点中\n",
    "# State 中的 add_messages 函数将把 LLM 的响应消息附加到状态中已有的消息list中\n",
    "def chatbot(state: State):\n",
    "    return {\"messages\": [llm.invoke(state[\"messages\"])]}\n",
    "\n",
    "\n",
    "# The first argument is the unique node name\n",
    "# The second argument is the function or object that will be called whenever\n",
    "# the node is used.\n",
    "graph_builder.add_node(\"chatbot\", chatbot)"
   ]
  },
  {
   "cell_type": "code",
   "execution_count": 7,
   "id": "36f4cc39",
   "metadata": {},
   "outputs": [
    {
     "data": {
      "text/plain": [
       "<langgraph.graph.state.StateGraph at 0x7b01e2115370>"
      ]
     },
     "execution_count": 7,
     "metadata": {},
     "output_type": "execute_result"
    }
   ],
   "source": [
    "# 添加一个 entry 点来告诉图表每次运行时从哪里开始工作\n",
    "graph_builder.add_edge(START, \"chatbot\")\n",
    "# 添加 exit 点，指示图表应在何处结束执行\n",
    "graph_builder.add_edge(\"chatbot\", END)"
   ]
  },
  {
   "cell_type": "code",
   "execution_count": 8,
   "id": "358ca3c6",
   "metadata": {},
   "outputs": [],
   "source": [
    "# 编译graph，在运行图表之前，我们需要编译它。这将创建一个 CompiledGraph ，我们可以用state调用它\n",
    "graph = graph_builder.compile()"
   ]
  },
  {
   "cell_type": "code",
   "execution_count": 9,
   "id": "9d727f07",
   "metadata": {},
   "outputs": [],
   "source": [
    "# 可视化图表\n",
    "# 以使用 get_graph 方法和其中一种“draw”方法，例如 draw_ascii 或 draw_png 来可视化图形。每种 draw 方法都需要额外的依赖项\n",
    "# from IPython.display import Image, display\n",
    "# display(Image(graph.get_graph().draw_mermaid_png()))"
   ]
  },
  {
   "cell_type": "code",
   "execution_count": 10,
   "id": "c254de74",
   "metadata": {},
   "outputs": [],
   "source": [
    "# 运行聊天机器人\n",
    "# def stream_graph_updates(user_input: str):\n",
    "#     for event in graph.stream(\n",
    "#             {\n",
    "#                 \"messages\": [\n",
    "#                     {\"role\": \"user\", \"content\": user_input}\n",
    "#                 ]\n",
    "#             }\n",
    "#         ):\n",
    "#         for value in event.values():\n",
    "#             print(\"Assistant:\", value[\"messages\"][-1].content)\n",
    "\n",
    "\n",
    "# while True:\n",
    "#     try:\n",
    "#         user_input = input(\"User: \")\n",
    "#         if user_input.lower() in [\"quit\", \"exit\", \"q\"]:\n",
    "#             print(\"Goodbye!\")\n",
    "#             break\n",
    "#         stream_graph_updates(user_input)\n",
    "#     except:\n",
    "#         # fallback if input() is not available\n",
    "#         user_input = \"What do you know about LangGraph?\"\n",
    "#         print(\"User: \" + user_input)\n",
    "#         stream_graph_updates(user_input)\n",
    "#         break"
   ]
  },
  {
   "cell_type": "code",
   "execution_count": null,
   "id": "5bcb7d6874bbbbc5",
   "metadata": {
    "ExecuteTime": {
     "end_time": "2025-08-15T05:04:28.229807Z",
     "start_time": "2025-08-15T02:17:13.251419Z"
    }
   },
   "outputs": [],
   "source": [
    "# 让我们创建一个更详细的版本来演示stream的工作过程\n",
    "def detailed_stream_demo(user_input: str):\n",
    "    print(f\"🔹 用户输入: {user_input}\")\n",
    "    print(\"🔹 开始流式执行图...\")\n",
    "\n",
    "    # 构造输入数据\n",
    "    input_data = {\n",
    "        \"messages\": [\n",
    "            {\"role\": \"user\", \"content\": user_input}\n",
    "        ]\n",
    "    }\n",
    "    print(f\"🔹 输入数据结构: {input_data}\")\n",
    "\n",
    "    # 开始流式执行\n",
    "    # event是一个字典，key为节点的name，value是一个message list\n",
    "    for i, event in enumerate(graph.stream(input_data), 1):\n",
    "        print(f\"\\n📦 事件 {i}:\")\n",
    "        print(f\"   事件类型: {type(event)}\")\n",
    "        print(f\"   事件键: {list(event.keys())}\")\n",
    "\n",
    "        # 遍历事件中的每个节点输出\n",
    "        for node_name, node_output in event.items():\n",
    "            print(f\"   📝 节点 '{node_name}' 的输出:\")\n",
    "            print(f\"      消息总数: {len(node_output['messages'])}\")\n",
    "\n",
    "            # 遍历message list 中的所有message对象（不是字典），因此只能使用.xx来获得xx属性\n",
    "            for j, msg in enumerate(node_output['messages']):\n",
    "                print(f\"      消息 {j + 1}: {msg.type} -> {msg.content[:50]}...\")\n",
    "\n",
    "            # 获取最新的AI回复\n",
    "            if node_output['messages']:\n",
    "                latest_msg = node_output['messages'][-1]\n",
    "                if latest_msg.type == 'ai':\n",
    "                    print(f\"   🤖 AI回复: {latest_msg.content}\")\n",
    "\n",
    "\n",
    "# 测试一下这个详细版本\n",
    "print(\"=\" * 60)\n",
    "print(\"详细流式执行演示\")\n",
    "print(\"=\" * 60)\n",
    "# detailed_stream_demo(\"你好，请介绍一下自己\")"
   ]
  },
  {
   "cell_type": "code",
   "execution_count": 12,
   "id": "7d6cdd561440cca1",
   "metadata": {},
   "outputs": [
    {
     "data": {
      "text/plain": [
       "\"\\n============================================================\\n详细流式执行演示\\n============================================================\\n🔹 用户输入: 你好，请介绍一下自己\\n🔹 开始流式执行图...\\n🔹 输入数据结构: {'messages': [{'role': 'user', 'content': '你好，请介绍一下自己'}]}\\n\\n📦 事件 1:\\n   事件类型: <class 'dict'>\\n   事件键: ['chatbot']\\n   📝 节点 'chatbot' 的输出:\\n      消息总数: 1\\n      消息 1: ai -> 你好！我是 ChatGPT，一款由 OpenAI 开发的人工智能语言模型，基于 GPT-4 架构。我...\\n   🤖 AI回复: 你好！我是 ChatGPT，一款由 OpenAI 开发的人工智能语言模型，基于 GPT-4 架构。我的主要功能是通过自然语言与用户进行交流，并根据提供的信息或问题，给出尽量准确和有帮助的回答。我可以帮助你处理各种任务，比如查找信息、撰写文本、翻译语言、解答疑难、提供学习建议、甚至闲聊娱乐。\\n\\n无论你有什么问题或需求，都可以随时问我哦！很高兴认识你~\\n\""
      ]
     },
     "execution_count": 12,
     "metadata": {},
     "output_type": "execute_result"
    }
   ],
   "source": [
    "'''\n",
    "============================================================\n",
    "详细流式执行演示\n",
    "============================================================\n",
    "🔹 用户输入: 你好，请介绍一下自己\n",
    "🔹 开始流式执行图...\n",
    "🔹 输入数据结构: {'messages': [{'role': 'user', 'content': '你好，请介绍一下自己'}]}\n",
    "\n",
    "📦 事件 1:\n",
    "   事件类型: <class 'dict'>\n",
    "   事件键: ['chatbot']\n",
    "   📝 节点 'chatbot' 的输出:\n",
    "      消息总数: 1\n",
    "      消息 1: ai -> 你好！我是 ChatGPT，一款由 OpenAI 开发的人工智能语言模型，基于 GPT-4 架构。我...\n",
    "   🤖 AI回复: 你好！我是 ChatGPT，一款由 OpenAI 开发的人工智能语言模型，基于 GPT-4 架构。我的主要功能是通过自然语言与用户进行交流，并根据提供的信息或问题，给出尽量准确和有帮助的回答。我可以帮助你处理各种任务，比如查找信息、撰写文本、翻译语言、解答疑难、提供学习建议、甚至闲聊娱乐。\n",
    "\n",
    "无论你有什么问题或需求，都可以随时问我哦！很高兴认识你~\n",
    "'''"
   ]
  },
  {
   "cell_type": "code",
   "execution_count": 13,
   "id": "43b23c4a",
   "metadata": {},
   "outputs": [
    {
     "data": {
      "text/plain": [
       "{'query': \"What's a 'node' in LangGraph?\",\n",
       " 'follow_up_questions': None,\n",
       " 'answer': None,\n",
       " 'images': [],\n",
       " 'results': [{'url': 'https://langchain-ai.github.io/langgraph/concepts/low_level/',\n",
       "   'title': 'state graph node - GitHub Pages',\n",
       "   'content': 'To build your graph, you first define the state, you then add nodes and edges, and then you compile it. The schema of the `State` will be the input schema to all `Nodes` and `Edges` in the graph, and can be either a `TypedDict` or a `Pydantic` model. The reducer function is vital to telling the graph how to update the list of `Message` objects in the state with each state update (for example, when a node sends an update). graph.add_conditional_edges(\"node_a\", routing_function) Use `Command` when you need to **both** update the graph state **and** route to a different node. When you send updates from a subgraph node to a parent graph node for a key that\\'s shared by both parent and subgraph state schemas, you **must** define a reducer for the key you\\'re updating in the parent graph state.',\n",
       "   'score': 0.98599,\n",
       "   'raw_content': None},\n",
       "  {'url': 'https://medium.com/@cplog/introduction-to-langgraph-a-beginners-guide-14f9be027141',\n",
       "   'title': \"Introduction to LangGraph: A Beginner's Guide\",\n",
       "   'content': '*   **Stateful Graph:** LangGraph revolves around the concept of a stateful graph, where each node in the graph represents a step in your computation, and the graph maintains a state that is passed around and updated as the computation progresses. LangGraph supports conditional edges, allowing you to dynamically determine the next node to execute based on the current state of the graph. Image 11: Introduction to AI Agent with LangChain and LangGraph: A Beginner’s Guide Image 19: The Complete Guide to Building Your First AI Agent with LangGraph. Image 29: Understanding LangGraph’s StateGraph: A Simple Guide Understanding LangGraph’s StateGraph: A Simple Guide ---------------------------------------------------- ### LangGraph is a powerful framework that allows developers to define workflows as directed graphs.',\n",
       "   'score': 0.9834,\n",
       "   'raw_content': None}],\n",
       " 'response_time': 1.36,\n",
       " 'request_id': '319afca2-0e21-460f-895f-a0c6df32baf6'}"
      ]
     },
     "execution_count": 13,
     "metadata": {},
     "output_type": "execute_result"
    }
   ],
   "source": [
    "from langchain_tavily import TavilySearch\n",
    "\n",
    "tool = TavilySearch(max_results=2)\n",
    "tools = [tool]\n",
    "tool.invoke(\"What's a 'node' in LangGraph?\")"
   ]
  }
 ],
 "metadata": {
  "kernelspec": {
   "display_name": "LangGraph-tutorial",
   "language": "python",
   "name": "python3"
  },
  "language_info": {
   "codemirror_mode": {
    "name": "ipython",
    "version": 3
   },
   "file_extension": ".py",
   "mimetype": "text/x-python",
   "name": "python",
   "nbconvert_exporter": "python",
   "pygments_lexer": "ipython3",
   "version": "3.12.3"
  }
 },
 "nbformat": 4,
 "nbformat_minor": 5
}
