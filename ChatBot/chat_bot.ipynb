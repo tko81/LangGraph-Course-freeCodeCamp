{
 "cells": [
  {
   "cell_type": "code",
   "execution_count": null,
   "id": "initial_id",
   "metadata": {
    "collapsed": true
   },
   "outputs": [],
   "source": [
    "from typing import Annotated\n",
    "\n",
    "from typing_extensions import TypedDict\n",
    "\n",
    "from langgraph.graph import StateGraph, START, END\n",
    "from langgraph.graph.message import add_messages"
   ]
  },
  {
   "cell_type": "code",
   "execution_count": null,
   "id": "e4451a6c9c85de97",
   "metadata": {},
   "outputs": [],
   "source": [
    "# 这是一个state schema\n",
    "class State(TypedDict):\n",
    "    # Messages have the type \"list\". The `add_messages` function\n",
    "    # in the annotation defines how this state key should be updated\n",
    "    # (in this case, it appends messages to the list, rather than overwriting them)\n",
    "    # add_message是一个reducer, 未指定reducer默认采用覆盖的策略\n",
    "    # https://langchain-ai.github.io/langgraph/concepts/low_level/#default-reducer\n",
    "    messages: Annotated[list, add_messages]\n",
    "\n",
    "graph_builder = StateGraph(State)"
   ]
  },
  {
   "cell_type": "code",
   "execution_count": null,
   "id": "bf27176b0abdb7be",
   "metadata": {},
   "outputs": [],
   "source": [
    "import os\n",
    "from langchain.chat_models import init_chat_model\n",
    "from dotenv import load_dotenv\n",
    "\n",
    "# 加载 .env 文件\n",
    "load_dotenv()\n",
    "\n",
    "llm = init_chat_model(\"openai:gpt-4.1\")"
   ]
  },
  {
   "cell_type": "code",
   "execution_count": null,
   "id": "88c69ddfde75c50f",
   "metadata": {},
   "outputs": [],
   "source": [
    "# 这是一个node，接受一个state作为参数，将聊天模型合并到一个简单的节点中\n",
    "# State 中的 add_messages 函数将把 LLM 的响应消息附加到状态中已有的消息list中\n",
    "def chatbot(state: State):\n",
    "    return {\"messages\": [llm.invoke(state[\"messages\"])]}\n",
    "\n",
    "\n",
    "# The first argument is the unique node name\n",
    "# The second argument is the function or object that will be called whenever\n",
    "# the node is used.\n",
    "graph_builder.add_node(\"chatbot\", chatbot)"
   ]
  },
  {
   "cell_type": "code",
   "execution_count": null,
   "id": "36f4cc39",
   "metadata": {},
   "outputs": [],
   "source": [
    "# 添加一个 entry 点来告诉图表每次运行时从哪里开始工作\n",
    "graph_builder.add_edge(START, \"chatbot\")\n",
    "# 添加 exit 点，指示图表应在何处结束执行\n",
    "graph_builder.add_edge(\"chatbot\", END)"
   ]
  },
  {
   "cell_type": "code",
   "execution_count": null,
   "id": "358ca3c6",
   "metadata": {},
   "outputs": [],
   "source": [
    "# 编译graph，在运行图表之前，我们需要编译它。这将创建一个 CompiledGraph ，我们可以用state调用它\n",
    "graph = graph_builder.compile()"
   ]
  },
  {
   "cell_type": "code",
   "execution_count": null,
   "id": "9d727f07",
   "metadata": {},
   "outputs": [],
   "source": [
    "# 可视化图表\n",
    "# 以使用 get_graph 方法和其中一种“draw”方法，例如 draw_ascii 或 draw_png 来可视化图形。每种 draw 方法都需要额外的依赖项\n",
    "# from IPython.display import Image, display\n",
    "# display(Image(graph.get_graph().draw_mermaid_png()))"
   ]
  },
  {
   "cell_type": "code",
   "execution_count": null,
   "id": "c254de74",
   "metadata": {},
   "outputs": [],
   "source": [
    "# 运行聊天机器人\n",
    "def stream_graph_updates(user_input: str):\n",
    "    for event in graph.stream(\n",
    "            {\n",
    "                \"messages\": [\n",
    "                    {\"role\": \"user\", \"content\": user_input}\n",
    "                ]\n",
    "            }\n",
    "        ):\n",
    "        for value in event.values():\n",
    "            print(\"Assistant:\", value[\"messages\"][-1].content)\n",
    "\n",
    "\n",
    "while True:\n",
    "    try:\n",
    "        user_input = input(\"User: \")\n",
    "        if user_input.lower() in [\"quit\", \"exit\", \"q\"]:\n",
    "            print(\"Goodbye!\")\n",
    "            break\n",
    "        stream_graph_updates(user_input)\n",
    "    except:\n",
    "        # fallback if input() is not available\n",
    "        user_input = \"What do you know about LangGraph?\"\n",
    "        print(\"User: \" + user_input)\n",
    "        stream_graph_updates(user_input)\n",
    "        break"
   ]
  },
  {
   "cell_type": "code",
   "execution_count": null,
   "id": "5bcb7d6874bbbbc5",
   "metadata": {
    "ExecuteTime": {
     "end_time": "2025-08-15T05:04:28.229807Z",
     "start_time": "2025-08-15T02:17:13.251419Z"
    }
   },
   "outputs": [],
   "source": [
    "# 让我们创建一个更详细的版本来演示stream的工作过程\n",
    "def detailed_stream_demo(user_input: str):\n",
    "    print(f\"🔹 用户输入: {user_input}\")\n",
    "    print(\"🔹 开始流式执行图...\")\n",
    "\n",
    "    # 构造输入数据\n",
    "    input_data = {\n",
    "        \"messages\": [\n",
    "            {\"role\": \"user\", \"content\": user_input}\n",
    "        ]\n",
    "    }\n",
    "    print(f\"🔹 输入数据结构: {input_data}\")\n",
    "\n",
    "    # 开始流式执行\n",
    "    # event是一个字典，key为节点的name，value是一个message list\n",
    "    for i, event in enumerate(graph.stream(input_data), 1):\n",
    "        print(f\"\\n📦 事件 {i}:\")\n",
    "        print(f\"   事件类型: {type(event)}\")\n",
    "        print(f\"   事件键: {list(event.keys())}\")\n",
    "\n",
    "        # 遍历事件中的每个节点输出\n",
    "        for node_name, node_output in event.items():\n",
    "            print(f\"   📝 节点 '{node_name}' 的输出:\")\n",
    "            print(f\"      消息总数: {len(node_output['messages'])}\")\n",
    "\n",
    "            # 遍历message list 中的所有message对象（不是字典），因此只能使用.xx来获得xx属性\n",
    "            for j, msg in enumerate(node_output['messages']):\n",
    "                print(f\"      消息 {j + 1}: {msg.type} -> {msg.content[:50]}...\")\n",
    "\n",
    "            # 获取最新的AI回复\n",
    "            if node_output['messages']:\n",
    "                latest_msg = node_output['messages'][-1]\n",
    "                if latest_msg.type == 'ai':\n",
    "                    print(f\"   🤖 AI回复: {latest_msg.content}\")\n",
    "\n",
    "\n",
    "# 测试一下这个详细版本\n",
    "print(\"=\" * 60)\n",
    "print(\"详细流式执行演示\")\n",
    "print(\"=\" * 60)\n",
    "detailed_stream_demo(\"你好，请介绍一下自己\")"
   ]
  },
  {
   "cell_type": "code",
   "execution_count": null,
   "id": "7d6cdd561440cca1",
   "metadata": {},
   "outputs": [],
   "source": [
    "'''\n",
    "============================================================\n",
    "详细流式执行演示\n",
    "============================================================\n",
    "🔹 用户输入: 你好，请介绍一下自己\n",
    "🔹 开始流式执行图...\n",
    "🔹 输入数据结构: {'messages': [{'role': 'user', 'content': '你好，请介绍一下自己'}]}\n",
    "\n",
    "📦 事件 1:\n",
    "   事件类型: <class 'dict'>\n",
    "   事件键: ['chatbot']\n",
    "   📝 节点 'chatbot' 的输出:\n",
    "      消息总数: 1\n",
    "      消息 1: ai -> 你好！我是 ChatGPT，一款由 OpenAI 开发的人工智能语言模型，基于 GPT-4 架构。我...\n",
    "   🤖 AI回复: 你好！我是 ChatGPT，一款由 OpenAI 开发的人工智能语言模型，基于 GPT-4 架构。我的主要功能是通过自然语言与用户进行交流，并根据提供的信息或问题，给出尽量准确和有帮助的回答。我可以帮助你处理各种任务，比如查找信息、撰写文本、翻译语言、解答疑难、提供学习建议、甚至闲聊娱乐。\n",
    "\n",
    "无论你有什么问题或需求，都可以随时问我哦！很高兴认识你~\n",
    "'''"
   ]
  },
  {
   "cell_type": "code",
   "execution_count": null,
   "id": "5eba33d6",
   "metadata": {},
   "outputs": [],
   "source": [
    "# 让我们演示不同消息类型的结构\n",
    "def demonstrate_message_types():\n",
    "    print(\"🔍 消息类型演示:\")\n",
    "    \n",
    "    # 创建输入数据\n",
    "    input_data = {\"messages\": [{\"role\": \"user\", \"content\": \"简短回复测试\"}]}\n",
    "    \n",
    "    # 执行一次来获取结果\n",
    "    for event in graph.stream(input_data):\n",
    "        for node_name, node_output in event.items():\n",
    "            messages = node_output['messages']\n",
    "            \n",
    "            print(f\"\\n📋 节点 '{node_name}' 中的消息类型分析:\")\n",
    "            \n",
    "            for i, msg in enumerate(messages):\n",
    "                print(f\"\\n  消息 {i+1}:\")\n",
    "                print(f\"    类型: {type(msg).__name__}\")\n",
    "                print(f\"    是否为字典: {isinstance(msg, dict)}\")\n",
    "                print(f\"    有 'role' 属性: {hasattr(msg, 'role')}\")\n",
    "                print(f\"    有 'content' 属性: {hasattr(msg, 'content')}\")\n",
    "                \n",
    "                # 安全地获取内容\n",
    "                if isinstance(msg, dict):\n",
    "                    role = msg.get('role', 'unknown')\n",
    "                    content = msg.get('content', 'no content')\n",
    "                    print(f\"    内容 (字典方式): {role} -> {content[:30]}...\")\n",
    "                elif hasattr(msg, 'content'):\n",
    "                    role = getattr(msg, 'role', 'AI')  # AIMessage 通常没有 role 属性\n",
    "                    content = msg.content\n",
    "                    print(f\"    内容 (属性方式): {role if role else 'AI'} -> {content[:30]}...\")\n",
    "                \n",
    "                # 显示对象的所有属性 (前几个)\n",
    "                attrs = [attr for attr in dir(msg) if not attr.startswith('_')][:5]\n",
    "                print(f\"    主要属性: {attrs}\")\n",
    "            \n",
    "            break  # 只看第一个节点\n",
    "        break  # 只看第一个事件\n",
    "\n",
    "# 运行演示\n",
    "print(\"=\" * 60)\n",
    "print(\"消息类型结构分析\")\n",
    "print(\"=\" * 60)\n",
    "demonstrate_message_types()"
   ]
  },
  {
   "cell_type": "code",
   "execution_count": null,
   "id": "d7ee4937",
   "metadata": {},
   "outputs": [],
   "source": [
    "# 让我们验证一下 event 的 key 数量\n",
    "def analyze_event_keys(user_input: str):\n",
    "    print(f\"🔍 分析输入 '{user_input}' 的事件结构:\")\n",
    "    \n",
    "    for i, event in enumerate(graph.stream({\"messages\": [{\"role\": \"user\", \"content\": user_input}]}), 1):\n",
    "        keys = list(event.keys())\n",
    "        print(f\"\\n事件 {i}:\")\n",
    "        print(f\"  - Key 数量: {len(keys)}\")\n",
    "        print(f\"  - Key 列表: {keys}\")\n",
    "        print(f\"  - 是否只有一个key: {len(keys) == 1}\")\n",
    "        \n",
    "        # 验证key的内容\n",
    "        for key in keys:\n",
    "            print(f\"  - Key '{key}' 对应的数据类型: {type(event[key])}\")\n",
    "            if 'messages' in event[key]:\n",
    "                msg_count = len(event[key]['messages'])\n",
    "                print(f\"  - Key '{key}' 包含 {msg_count} 条消息\")\n",
    "\n",
    "# 测试几个不同的输入\n",
    "test_inputs = [\"测试1\", \"这是一个较长的测试输入\"]\n",
    "\n",
    "for test_input in test_inputs:\n",
    "    analyze_event_keys(test_input)\n",
    "    print(\"-\" * 50)"
   ]
  }
 ],
 "metadata": {
  "kernelspec": {
   "display_name": "LangGraph-tutorial",
   "language": "python",
   "name": "python3"
  },
  "language_info": {
   "codemirror_mode": {
    "name": "ipython",
    "version": 3
   },
   "file_extension": ".py",
   "mimetype": "text/x-python",
   "name": "python",
   "nbconvert_exporter": "python",
   "pygments_lexer": "ipython3",
   "version": "3.12.3"
  }
 },
 "nbformat": 4,
 "nbformat_minor": 5
}
