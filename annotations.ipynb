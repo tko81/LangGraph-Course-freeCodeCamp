{
 "cells": [
  {
   "cell_type": "code",
   "id": "initial_id",
   "metadata": {
    "collapsed": true,
    "ExecuteTime": {
     "end_time": "2025-08-12T04:38:18.528848Z",
     "start_time": "2025-08-12T04:38:18.512614Z"
    }
   },
   "source": "from typing import TypedDict, Union, Optional, Any",
   "outputs": [],
   "execution_count": 11
  },
  {
   "metadata": {
    "ExecuteTime": {
     "end_time": "2025-08-12T04:38:18.563942Z",
     "start_time": "2025-08-12T04:38:18.558758Z"
    }
   },
   "cell_type": "code",
   "source": [
    "class Movie(TypedDict):\n",
    "    name: str\n",
    "    year: int\n",
    "\n",
    "movie = Movie(name = \"东极岛\", year = 2025)\n",
    "print(movie)"
   ],
   "id": "f6e0ed3729af2b69",
   "outputs": [
    {
     "name": "stdout",
     "output_type": "stream",
     "text": [
      "{'name': '东极岛', 'year': 2025}\n"
     ]
    }
   ],
   "execution_count": 12
  },
  {
   "metadata": {
    "ExecuteTime": {
     "end_time": "2025-08-12T04:38:18.611185Z",
     "start_time": "2025-08-12T04:38:18.608497Z"
    }
   },
   "cell_type": "code",
   "source": [
    "def square(x: Union[int, float]) -> float:\n",
    "    return x * x\n",
    "\n",
    "print(square(5.0))\n",
    "print(square(5))\n",
    "# print(square(\"7\"))"
   ],
   "id": "3b95ee6ce7f6aabb",
   "outputs": [
    {
     "name": "stdout",
     "output_type": "stream",
     "text": [
      "25.0\n",
      "25\n"
     ]
    }
   ],
   "execution_count": 13
  },
  {
   "metadata": {
    "ExecuteTime": {
     "end_time": "2025-08-12T04:38:18.671909Z",
     "start_time": "2025-08-12T04:38:18.665394Z"
    }
   },
   "cell_type": "code",
   "source": [
    "# optional的参数是可选的\n",
    "def nice_msg(name: Optional[str]) -> None:\n",
    "    if name is None:\n",
    "        print(\"Hey random person!\")\n",
    "    else:\n",
    "        print(f\"Hi there, {name}!\")\n",
    "\n",
    "nice_msg(\"7\")"
   ],
   "id": "f952e82e1ae7b4f6",
   "outputs": [
    {
     "name": "stdout",
     "output_type": "stream",
     "text": [
      "Hi there, 7!\n"
     ]
    }
   ],
   "execution_count": 14
  },
  {
   "metadata": {
    "ExecuteTime": {
     "end_time": "2025-08-12T04:38:18.730356Z",
     "start_time": "2025-08-12T04:38:18.728420Z"
    }
   },
   "cell_type": "code",
   "source": [
    "# 接受任何类型的参数\n",
    "def print_value(x: Any):\n",
    "    print(x)"
   ],
   "id": "2dc94288b6005f55",
   "outputs": [],
   "execution_count": 15
  },
  {
   "metadata": {
    "ExecuteTime": {
     "end_time": "2025-08-12T04:38:18.761930Z",
     "start_time": "2025-08-12T04:38:18.760308Z"
    }
   },
   "cell_type": "code",
   "source": [
    "# lambda is just a shortcut to write small functions\n",
    "square_lambda_version = lambda x: x * x\n",
    "print(square_lambda_version(7))"
   ],
   "id": "ff27953d1f3ca160",
   "outputs": [
    {
     "name": "stdout",
     "output_type": "stream",
     "text": [
      "49\n"
     ]
    }
   ],
   "execution_count": 16
  },
  {
   "metadata": {
    "ExecuteTime": {
     "end_time": "2025-08-12T04:38:18.840534Z",
     "start_time": "2025-08-12T04:38:18.838377Z"
    }
   },
   "cell_type": "code",
   "source": [
    "# 映射\n",
    "nums = [1, 2, 3, 4]\n",
    "squares = list(map(lambda x: x + 1, nums))\n",
    "print(squares)"
   ],
   "id": "3a045ffa7fb77393",
   "outputs": [
    {
     "name": "stdout",
     "output_type": "stream",
     "text": [
      "[2, 3, 4, 5]\n"
     ]
    }
   ],
   "execution_count": 17
  }
 ],
 "metadata": {
  "kernelspec": {
   "display_name": "Python 3",
   "language": "python",
   "name": "python3"
  },
  "language_info": {
   "codemirror_mode": {
    "name": "ipython",
    "version": 2
   },
   "file_extension": ".py",
   "mimetype": "text/x-python",
   "name": "python",
   "nbconvert_exporter": "python",
   "pygments_lexer": "ipython2",
   "version": "2.7.6"
  }
 },
 "nbformat": 4,
 "nbformat_minor": 5
}
